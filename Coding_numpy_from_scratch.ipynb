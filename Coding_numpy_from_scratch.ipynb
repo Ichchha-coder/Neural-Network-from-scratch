{
  "nbformat": 4,
  "nbformat_minor": 0,
  "metadata": {
    "colab": {
      "provenance": [],
      "authorship_tag": "ABX9TyOj8sWa87xeISWHgCr0pYMh",
      "include_colab_link": true
    },
    "kernelspec": {
      "name": "python3",
      "display_name": "Python 3"
    },
    "language_info": {
      "name": "python"
    }
  },
  "cells": [
    {
      "cell_type": "markdown",
      "metadata": {
        "id": "view-in-github",
        "colab_type": "text"
      },
      "source": [
        "<a href=\"https://colab.research.google.com/github/Ichchha-coder/Neural-Network-from-scratch/blob/main/Coding_numpy_from_scratch.ipynb\" target=\"_parent\"><img src=\"https://colab.research.google.com/assets/colab-badge.svg\" alt=\"Open In Colab\"/></a>"
      ]
    },
    {
      "cell_type": "markdown",
      "source": [
        "CODING OUR FIRST NEURON: 3 INPUTS"
      ],
      "metadata": {
        "id": "crGNRADkk_DU"
      }
    },
    {
      "cell_type": "code",
      "source": [
        "inputs = [1, 2, 4]\n",
        "weights = [0.2, 0.3, -0.6]\n",
        "bias = 2\n",
        "\n",
        "outputs = (inputs[0]*weights[0] + inputs[1]*weights[1] + inputs[2]*weights[2] + bias)\n",
        "\n",
        "print(outputs)"
      ],
      "metadata": {
        "colab": {
          "base_uri": "https://localhost:8080/"
        },
        "id": "H1R_I8Nyk_m8",
        "outputId": "50745670-a421-4081-a4f1-5322fa7767d0"
      },
      "execution_count": 1,
      "outputs": [
        {
          "output_type": "stream",
          "name": "stdout",
          "text": [
            "0.40000000000000013\n"
          ]
        }
      ]
    },
    {
      "cell_type": "markdown",
      "source": [
        "CODING OUR FIRST LAYER"
      ],
      "metadata": {
        "id": "71ZeXKKalVbB"
      }
    },
    {
      "cell_type": "code",
      "source": [
        "inputs = [1, 2, 3.5, 2.5]\n",
        "\n",
        "weights = [[0.2, 0.8, -0.5, 1],\n",
        " [0.5, -0.91, 0.29, -0.5],\n",
        " [-0.26, -0.27, 0.16, 0.87]]\n",
        "\n",
        "weights_1 = weights[0] #LIST OF WEIGHTS ASSOCIATED WITH 1ST NEURON : W11, W12, W13, W14\n",
        "weights_2 = weights[1] #LIST OF WEIGHTS ASSOCIATED WITH 2ND NEURON : W21, W22, W23, W24\n",
        "weights_3 = weights[2] #LIST OF WEIGHTS ASSOCIATED WITH 3RD NEURON : W31, W32, W33, W34\n",
        "\n",
        "biases = [2, 4, 0.5]\n",
        "\n",
        "bias1 = 2\n",
        "bias2 = 3\n",
        "bias3 = 0.5\n",
        "\n",
        "outputs = [\n",
        " # Neuron 1:\n",
        " inputs[0]*weights_1[0] +\n",
        " inputs[1]*weights_1[1] +\n",
        " inputs[2]*weights_1[2] +\n",
        " inputs[3]*weights_1[3] + bias1,\n",
        " # Neuron 2:\n",
        " inputs[0]*weights_2[0] +\n",
        " inputs[1]*weights_2[1] +\n",
        " inputs[2]*weights_2[2] +\n",
        " inputs[3]*weights_2[3] + bias2,\n",
        " # Neuron 3:\n",
        " inputs[0]*weights_3[0] +\n",
        " inputs[1]*weights_3[1] +\n",
        " inputs[2]*weights_3[2] +\n",
        " inputs[3]*weights_3[3] + bias3]\n",
        "\n",
        "print(outputs)"
      ],
      "metadata": {
        "colab": {
          "base_uri": "https://localhost:8080/"
        },
        "id": "jzcPCWUHlZwH",
        "outputId": "cb7858d2-0bba-4372-8a89-e8ed66c58e5a"
      },
      "execution_count": 2,
      "outputs": [
        {
          "output_type": "stream",
          "name": "stdout",
          "text": [
            "[4.55, 1.4449999999999998, 2.4349999999999996]\n"
          ]
        }
      ]
    }
  ]
}